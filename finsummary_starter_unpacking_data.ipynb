{
  "nbformat": 4,
  "nbformat_minor": 0,
  "metadata": {
    "colab": {
      "name": "finsummary_starter_unpacking_data.ipynb",
      "provenance": [],
      "collapsed_sections": [],
      "authorship_tag": "ABX9TyNKyyiBcUYg5+bMQFkJXeku",
      "include_colab_link": true
    },
    "kernelspec": {
      "name": "python3",
      "display_name": "Python 3"
    }
  },
  "cells": [
    {
      "cell_type": "markdown",
      "metadata": {
        "id": "view-in-github",
        "colab_type": "text"
      },
      "source": [
        "<a href=\"https://colab.research.google.com/github/asking28/finsummary/blob/master/finsummary_starter_unpacking_data.ipynb\" target=\"_parent\"><img src=\"https://colab.research.google.com/assets/colab-badge.svg\" alt=\"Open In Colab\"/></a>"
      ]
    },
    {
      "cell_type": "code",
      "metadata": {
        "id": "DUS6jF-NomFo",
        "outputId": "0fd91410-7424-489a-bfd8-4619ea4890c5",
        "colab": {
          "base_uri": "https://localhost:8080/",
          "height": 122
        }
      },
      "source": [
        "from google.colab import drive\n",
        "drive.mount('/content/drive/')"
      ],
      "execution_count": null,
      "outputs": [
        {
          "output_type": "stream",
          "text": [
            "Go to this URL in a browser: https://accounts.google.com/o/oauth2/auth?client_id=947318989803-6bn6qk8qdgf4n4g3pfee6491hc0brc4i.apps.googleusercontent.com&redirect_uri=urn%3aietf%3awg%3aoauth%3a2.0%3aoob&response_type=code&scope=email%20https%3a%2f%2fwww.googleapis.com%2fauth%2fdocs.test%20https%3a%2f%2fwww.googleapis.com%2fauth%2fdrive%20https%3a%2f%2fwww.googleapis.com%2fauth%2fdrive.photos.readonly%20https%3a%2f%2fwww.googleapis.com%2fauth%2fpeopleapi.readonly\n",
            "\n",
            "Enter your authorization code:\n",
            "··········\n",
            "Mounted at /content/drive/\n"
          ],
          "name": "stdout"
        }
      ]
    },
    {
      "cell_type": "code",
      "metadata": {
        "id": "NVJbWTDXpPKB"
      },
      "source": [
        "import shutil\n",
        "shutil.unpack_archive('/content/drive/My Drive/finsummary/fns2020_dataset_includes_testing.tar.gz','/content/drive/My Drive/finsummary/')"
      ],
      "execution_count": null,
      "outputs": []
    },
    {
      "cell_type": "code",
      "metadata": {
        "id": "5fP9hpI_px69"
      },
      "source": [
        "shutil.unpack_archive('/content/drive/My Drive/finsummary/fns2020_dataset.tar.gz','/content/drive/My Drive/finsummary/')"
      ],
      "execution_count": null,
      "outputs": []
    },
    {
      "cell_type": "code",
      "metadata": {
        "id": "mCN1d6AYp_qF"
      },
      "source": [
        "shutil.unpack_archive('/content/drive/My Drive/finsummary/testing.tar.gz','/content/drive/My Drive/finsummary/Data/')\n",
        "shutil.unpack_archive('/content/drive/My Drive/finsummary/training.tar.gz','/content/drive/My Drive/finsummary/Data/')\n",
        "shutil.unpack_archive('/content/drive/My Drive/finsummary/validation.tar.gz','/content/drive/My Drive/finsummary/Data/')"
      ],
      "execution_count": null,
      "outputs": []
    },
    {
      "cell_type": "code",
      "metadata": {
        "id": "LBnVHcWwqWCe"
      },
      "source": [
        "shutil.unpack_archive('/content/drive/My Drive/finsummary/validation.tar.gz','/content/drive/My Drive/finsummary/Data/')"
      ],
      "execution_count": null,
      "outputs": []
    }
  ]
}